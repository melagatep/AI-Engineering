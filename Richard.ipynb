{
 "cells": [
  {
   "cell_type": "markdown",
   "metadata": {},
   "source": [
    "## GET NUMBER OF OCCURRENCES for qm6Sinr"
   ]
  },
  {
   "cell_type": "code",
   "execution_count": 1,
   "metadata": {},
   "outputs": [],
   "source": [
    "# get BB file object reference ulSfn=880\n",
    "file = open(\"BB_txt_to_csv_reformat.txt\", \"r\")"
   ]
  },
  {
   "cell_type": "code",
   "execution_count": 2,
   "metadata": {},
   "outputs": [],
   "source": [
    "# read content of file to string\n",
    "data = file.read()\n"
   ]
  },
  {
   "cell_type": "code",
   "execution_count": 3,
   "metadata": {},
   "outputs": [
    {
     "name": "stdout",
     "output_type": "stream",
     "text": [
      "Number of occurrences for qm6Sinr in ulSfn=880  : 64\n"
     ]
    }
   ],
   "source": [
    "# get occurrences of qm6Sinr \n",
    "occurences = data.count (\"qm6Sinr\")\n",
    "\n",
    "print('Number of occurrences for qm6Sinr in ulSfn=880  :' , occurences)\n"
   ]
  },
  {
   "cell_type": "markdown",
   "metadata": {},
   "source": [
    "## GET VALUES OF qm6Sinr"
   ]
  },
  {
   "cell_type": "code",
   "execution_count": 4,
   "metadata": {},
   "outputs": [
    {
     "name": "stdout",
     "output_type": "stream",
     "text": [
      "qm6Sinr=1039\n",
      "qm6Sinr=1085\n",
      "qm6Sinr=1032\n",
      "qm6Sinr=1085\n",
      "qm6Sinr=0\n",
      "qm6Sinr=0\n",
      "qm6Sinr=0\n",
      "qm6Sinr=0\n",
      "qm6Sinr=989\n",
      "qm6Sinr=979\n",
      "qm6Sinr=966\n",
      "qm6Sinr=979\n",
      "qm6Sinr=0\n",
      "qm6Sinr=0\n",
      "qm6Sinr=0\n",
      "qm6Sinr=0\n",
      "qm6Sinr=1130\n",
      "qm6Sinr=1098\n",
      "qm6Sinr=1058\n",
      "qm6Sinr=1098\n",
      "qm6Sinr=0\n",
      "qm6Sinr=0\n",
      "qm6Sinr=0\n",
      "qm6Sinr=0\n",
      "qm6Sinr=928\n",
      "qm6Sinr=969\n",
      "qm6Sinr=986\n",
      "qm6Sinr=969\n",
      "qm6Sinr=0\n",
      "qm6Sinr=0\n",
      "qm6Sinr=0\n",
      "qm6Sinr=0\n",
      "qm6Sinr=921\n",
      "qm6Sinr=947\n",
      "qm6Sinr=961\n",
      "qm6Sinr=947\n",
      "qm6Sinr=0\n",
      "qm6Sinr=0\n",
      "qm6Sinr=0\n",
      "qm6Sinr=0\n",
      "qm6Sinr=1044\n",
      "qm6Sinr=1052\n",
      "qm6Sinr=1045\n",
      "qm6Sinr=1052\n",
      "qm6Sinr=0\n",
      "qm6Sinr=0\n",
      "qm6Sinr=0\n",
      "qm6Sinr=0\n",
      "qm6Sinr=1045\n",
      "qm6Sinr=1040\n",
      "qm6Sinr=1024\n",
      "qm6Sinr=1040\n",
      "qm6Sinr=0\n",
      "qm6Sinr=0\n",
      "qm6Sinr=0\n",
      "qm6Sinr=0\n",
      "qm6Sinr=1056\n",
      "qm6Sinr=1049\n",
      "qm6Sinr=1053\n",
      "qm6Sinr=1049\n",
      "qm6Sinr=0\n",
      "qm6Sinr=0\n",
      "qm6Sinr=0\n",
      "qm6Sinr=0\n"
     ]
    }
   ],
   "source": [
    "found = False\n",
    "with open(\"BB_txt_to_csv_reformat.txt\") as openfile:\n",
    "     for line in openfile:\n",
    "         if not found:\n",
    "             counter = 0\n",
    "             for part in line.split():\n",
    "                  counter = counter + 1\n",
    "                  if \"qm6Sinr=\" in part:\n",
    "                      print (part)\n",
    "                      "
   ]
  }
 ],
 "metadata": {
  "kernelspec": {
   "display_name": "Python",
   "language": "python",
   "name": "conda-env-python-py"
  },
  "language_info": {
   "codemirror_mode": {
    "name": "ipython",
    "version": 3
   },
   "file_extension": ".py",
   "mimetype": "text/x-python",
   "name": "python",
   "nbconvert_exporter": "python",
   "pygments_lexer": "ipython3",
   "version": "3.6.11"
  }
 },
 "nbformat": 4,
 "nbformat_minor": 4
}
